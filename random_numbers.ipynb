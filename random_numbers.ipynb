{
 "cells": [
  {
   "cell_type": "code",
   "execution_count": 23,
   "id": "c4516358",
   "metadata": {},
   "outputs": [],
   "source": [
    "import random\n",
    "import numpy as np\n",
    "import timeit"
   ]
  },
  {
   "cell_type": "code",
   "execution_count": 2,
   "id": "6fc7f527",
   "metadata": {},
   "outputs": [
    {
     "data": {
      "text/plain": [
       "0.32141409557405587"
      ]
     },
     "execution_count": 2,
     "metadata": {},
     "output_type": "execute_result"
    }
   ],
   "source": [
    "# returns a floating point decimal from 0.0 and 1.0 with a many decimal places\n",
    "# 0 and 1 included\n",
    "random.random()"
   ]
  },
  {
   "cell_type": "code",
   "execution_count": 8,
   "id": "3d11ff6e",
   "metadata": {},
   "outputs": [
    {
     "data": {
      "text/plain": [
       "-53"
      ]
     },
     "execution_count": 8,
     "metadata": {},
     "output_type": "execute_result"
    }
   ],
   "source": [
    "# generates a random integer within a specified range\n",
    "# -90 and 90 included\n",
    "random.randint(-90,90)"
   ]
  },
  {
   "cell_type": "code",
   "execution_count": 6,
   "id": "2ffbb252",
   "metadata": {},
   "outputs": [
    {
     "data": {
      "text/plain": [
       "3"
      ]
     },
     "execution_count": 6,
     "metadata": {},
     "output_type": "execute_result"
    }
   ],
   "source": [
    "# generates a random integer within a specified range limited a by a step\n",
    "# steps of 2 within -9 and 9: -9, -7, -5, -3, -1, 1, 3, 5, 7, 9\n",
    "random.randrange(-9,9,2)"
   ]
  },
  {
   "cell_type": "code",
   "execution_count": 7,
   "id": "25e814a2",
   "metadata": {},
   "outputs": [
    {
     "data": {
      "text/plain": [
       "-5.9817949279648985"
      ]
     },
     "execution_count": 7,
     "metadata": {},
     "output_type": "execute_result"
    }
   ],
   "source": [
    "# returns a florating point numbr within a specified range\n",
    "# use round() to limit the decimal places\n",
    "random.uniform(-10, 10)"
   ]
  },
  {
   "cell_type": "code",
   "execution_count": 11,
   "id": "8b83acd2",
   "metadata": {},
   "outputs": [
    {
     "data": {
      "text/plain": [
       "26.1061051405399"
      ]
     },
     "execution_count": 11,
     "metadata": {},
     "output_type": "execute_result"
    }
   ],
   "source": [
    "# generate latitudes between –89.99999 and 89.99999.\n",
    "# Option: 1\n",
    "random_number = random.randint(-90,89) + random.random()\n",
    "random_number"
   ]
  },
  {
   "cell_type": "code",
   "execution_count": 13,
   "id": "6894cb3b",
   "metadata": {},
   "outputs": [
    {
     "data": {
      "text/plain": [
       "[56.227643396129174,\n",
       " -63.06849446387953,\n",
       " 58.539671338247345,\n",
       " 57.617800993611986,\n",
       " -76.10252255239755,\n",
       " 28.60572761848876,\n",
       " -34.02702998588249,\n",
       " -43.84508181716055,\n",
       " -66.11112801791167,\n",
       " 40.35996081118313]"
      ]
     },
     "execution_count": 13,
     "metadata": {},
     "output_type": "execute_result"
    }
   ],
   "source": [
    "# get a list of 10 random numbers between -90 and 89\n",
    "x = 1\n",
    "lattitudes = []\n",
    "while x<11:\n",
    "    rand_lat = random.randint(-90,89) + random.random()\n",
    "    lattitudes.append(rand_lat)\n",
    "    x += 1\n",
    "lattitudes"
   ]
  },
  {
   "cell_type": "code",
   "execution_count": 14,
   "id": "61e974d5",
   "metadata": {},
   "outputs": [
    {
     "data": {
      "text/plain": [
       "-77.98545294715258"
      ]
     },
     "execution_count": 14,
     "metadata": {},
     "output_type": "execute_result"
    }
   ],
   "source": [
    "# Option #2\n",
    "random.randrange(-90,89,2)+random.random()"
   ]
  },
  {
   "cell_type": "code",
   "execution_count": 15,
   "id": "44521cff",
   "metadata": {},
   "outputs": [
    {
     "data": {
      "text/plain": [
       "-41.35547040626666"
      ]
     },
     "execution_count": 15,
     "metadata": {},
     "output_type": "execute_result"
    }
   ],
   "source": [
    "# Option 3:\n",
    "random.uniform(-90,89)"
   ]
  },
  {
   "cell_type": "code",
   "execution_count": 19,
   "id": "d6f2b344",
   "metadata": {},
   "outputs": [
    {
     "data": {
      "text/plain": [
       "35.056427663797905"
      ]
     },
     "execution_count": 19,
     "metadata": {},
     "output_type": "execute_result"
    }
   ],
   "source": [
    "# to get more than a thousand latitudes and longitudes, \n",
    "# and running one of these functions using a while loop or other methods may take more programming than needed.\n",
    "\n",
    "# chain the NumPy module to the random module to create an array of latitudes or longitudes \n",
    "# between the lowest and highest values,\n",
    "\n",
    "# generate array of numners from -90 to 89 with step=1\n",
    "np.arange(-90,90)\n",
    "\n",
    "# generate a random decimal in the specified range using numpy\n",
    "np.random.uniform(-90,90)\n"
   ]
  },
  {
   "cell_type": "code",
   "execution_count": 20,
   "id": "74e67c5b",
   "metadata": {},
   "outputs": [
    {
     "data": {
      "text/plain": [
       "-19.805954477076483"
      ]
     },
     "execution_count": 20,
     "metadata": {},
     "output_type": "execute_result"
    }
   ],
   "source": [
    "# can also specify low and high boundaries\n",
    "np.random.uniform(low=-90, high=90)"
   ]
  },
  {
   "cell_type": "code",
   "execution_count": 21,
   "id": "87f5768f",
   "metadata": {},
   "outputs": [
    {
     "data": {
      "text/plain": [
       "array([ 22.87797029,  -2.46581186, -88.59654469, -54.60211753,\n",
       "       -75.91949376,  30.13337183,  10.86415845,  -1.1070702 ,\n",
       "       -18.9606208 , -54.20833165,  59.70126539, -25.80112854,\n",
       "        45.18408971,  89.74998632,  57.13303919, -53.70496694,\n",
       "       -68.71554473, -83.5823147 ,  20.14852461, -65.60369171,\n",
       "       -53.19709238,  72.98742424,  68.63567824, -27.71557683,\n",
       "       -51.62814296,  12.99822883,  26.61890604, -52.90363916,\n",
       "        85.49816221,  53.7664874 , -65.01090342,  -8.96969157,\n",
       "        33.24363534,  -5.79116266,  10.12531923, -59.47967939,\n",
       "        -6.90815316,  70.9534722 ,   2.2805781 , -50.115482  ,\n",
       "       -11.79005667,  83.94587757,  -3.55283738,  80.59275781,\n",
       "        66.12176907, -20.26838726,  -6.84146602, -52.18382183,\n",
       "        32.7973871 ,  88.63721772])"
      ]
     },
     "execution_count": 21,
     "metadata": {},
     "output_type": "execute_result"
    }
   ],
   "source": [
    "# add size parameter to generate those many decimals\n",
    "np.random.uniform(-90.000, 90.000, size=50)"
   ]
  },
  {
   "cell_type": "code",
   "execution_count": 24,
   "id": "58320559",
   "metadata": {},
   "outputs": [
    {
     "name": "stdout",
     "output_type": "stream",
     "text": [
      "13 µs ± 264 ns per loop (mean ± std. dev. of 7 runs, 100000 loops each)\n"
     ]
    }
   ],
   "source": [
    "%timeit np.random.uniform(-90.000, 90.000, size=1500)"
   ]
  },
  {
   "cell_type": "code",
   "execution_count": 25,
   "id": "c577afe2",
   "metadata": {},
   "outputs": [
    {
     "name": "stdout",
     "output_type": "stream",
     "text": [
      "1.74 ms ± 4.54 µs per loop (mean ± std. dev. of 7 runs, 1000 loops each)\n"
     ]
    }
   ],
   "source": [
    "def latitudes(size):\n",
    "    latitudes = []\n",
    "    x = 0\n",
    "    while x < (size):\n",
    "        random_lat = random.randint(-90, 90) + random.random()\n",
    "        latitudes.append(random_lat)\n",
    "        x += 1\n",
    "    return latitudes\n",
    "# Call the function with 1500.\n",
    "%timeit latitudes(1500)"
   ]
  },
  {
   "cell_type": "code",
   "execution_count": null,
   "id": "d79fffab",
   "metadata": {},
   "outputs": [],
   "source": []
  }
 ],
 "metadata": {
  "kernelspec": {
   "display_name": "PythonData",
   "language": "python",
   "name": "pythondata"
  },
  "language_info": {
   "codemirror_mode": {
    "name": "ipython",
    "version": 3
   },
   "file_extension": ".py",
   "mimetype": "text/x-python",
   "name": "python",
   "nbconvert_exporter": "python",
   "pygments_lexer": "ipython3",
   "version": "3.7.13"
  }
 },
 "nbformat": 4,
 "nbformat_minor": 5
}
